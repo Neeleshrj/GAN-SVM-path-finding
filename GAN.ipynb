{
 "cells": [
  {
   "cell_type": "code",
   "execution_count": 1,
   "metadata": {},
   "outputs": [],
   "source": [
    "import random\n",
    "import heapq\n",
    "import math\n",
    "import cv2\n",
    "import numpy as np\n",
    "import matplotlib.pyplot as plt\n",
    "import tensorflow as tf\n",
    "from tensorflow import keras\n",
    "from tensorflow.keras import layers, Model, Input\n",
    "from tensorflow.keras.optimizers import Adam"
   ]
  },
  {
   "cell_type": "code",
   "execution_count": 2,
   "metadata": {},
   "outputs": [],
   "source": [
    "def generate_random_maps(width, height):\n",
    "    # Initialize an empty map\n",
    "    map = [[0 for x in range(width)] for y in range(height)]\n",
    "\n",
    "    # Place obstacles in the center\n",
    "    obstacle_count = 0\n",
    "    while obstacle_count < 20:\n",
    "        x = random.randint(width//3, 2*width//3)\n",
    "        y = random.randint(height//3, 2*height//3)\n",
    "        if map[y][x] == 0:\n",
    "            map[y][x] = 1\n",
    "            obstacle_count += 1\n",
    "\n",
    "    \n",
    "    # Place start and end points on the map\n",
    "    map[15][0] = 2\n",
    "    map[15][31] = 3\n",
    "    \n",
    "    return map"
   ]
  },
  {
   "cell_type": "code",
   "execution_count": 3,
   "metadata": {},
   "outputs": [],
   "source": [
    "def a_star(start, goal, grid):\n",
    "    # Define the heuristic function\n",
    "    def heuristic(a, b):\n",
    "        # Use Euclidean distance as the heuristic\n",
    "        return math.sqrt((b[0] - a[0]) ** 2 + (b[1] - a[1]) ** 2)\n",
    "    \n",
    "    # Define the neighbors function\n",
    "    def neighbors(point):\n",
    "        x, y = point\n",
    "        results = [(x+1, y), (x-1, y), (x, y+1), (x, y-1)]\n",
    "        results = filter(lambda p: 0 <= p[0] < len(grid) and 0 <= p[1] < len(grid[0]), results)\n",
    "        results = filter(lambda p: grid[p[0]][p[1]] == 0, results)\n",
    "        return results\n",
    "    \n",
    "    # Initialize the open and closed sets\n",
    "    open_set = []\n",
    "    closed_set = set()\n",
    "    \n",
    "    # Add the starting point to the open set\n",
    "    heapq.heappush(open_set, (0, start))\n",
    "    \n",
    "    # Initialize the cost and came_from dictionaries\n",
    "    cost = {start: 0}\n",
    "    came_from = {}\n",
    "    \n",
    "    # Loop until the open set is empty\n",
    "    while open_set:\n",
    "        # Pop the lowest-cost point from the open set\n",
    "        current_cost, current_point = heapq.heappop(open_set)\n",
    "        \n",
    "        # If the current point is the goal, reconstruct and return the path\n",
    "        if current_point == goal:\n",
    "            path = [current_point]\n",
    "            while current_point in came_from:\n",
    "                current_point = came_from[current_point]\n",
    "                path.append(current_point)\n",
    "            path.reverse()\n",
    "            return path\n",
    "        \n",
    "        # Add the current point to the closed set\n",
    "        closed_set.add(current_point)\n",
    "        \n",
    "        # Loop through the current point's neighbors\n",
    "        for neighbor in neighbors(current_point):\n",
    "            # Calculate the tentative cost to the neighbor\n",
    "            tentative_cost = cost[current_point] + 1\n",
    "            \n",
    "            # If the neighbor is already in the closed set and the new cost is greater than or equal to the old cost, skip it\n",
    "            if neighbor in closed_set and tentative_cost >= cost.get(neighbor, float('inf')):\n",
    "                continue\n",
    "            \n",
    "            # If the neighbor is not in the open set or the new cost is less than the old cost, add it to the open set\n",
    "            if tentative_cost < cost.get(neighbor, float('inf')):\n",
    "                came_from[neighbor] = current_point\n",
    "                cost[neighbor] = tentative_cost\n",
    "                priority = tentative_cost + heuristic(goal, neighbor)\n",
    "                heapq.heappush(open_set, (priority, neighbor))\n",
    "    \n",
    "    # If the open set is empty and the goal has not been reached, there is no path\n",
    "    return None"
   ]
  },
  {
   "cell_type": "code",
   "execution_count": 4,
   "metadata": {},
   "outputs": [],
   "source": [
    "def distance(p1, p2):\n",
    "    # Calculate the Euclidean distance between two points\n",
    "    return ((p1[0] - p2[0]) ** 2 + (p1[1] - p2[1]) ** 2) ** 0.5"
   ]
  },
  {
   "cell_type": "code",
   "execution_count": 5,
   "metadata": {},
   "outputs": [],
   "source": [
    "def find_start_end(map):\n",
    "    # Find the start and end points\n",
    "    start, end = None, None\n",
    "    for y in range(len(map)):\n",
    "        for x in range(len(map[0])):\n",
    "            if map[y][x] == 2:\n",
    "                start = (x, y)\n",
    "            elif map[y][x] == 3:\n",
    "                end = (x, y)\n",
    "            if start is not None and end is not None:\n",
    "                return start, end\n",
    "    # If start and end points are not found, raise an error\n",
    "    raise ValueError(\"Start or end point not found in map\")"
   ]
  },
  {
   "cell_type": "code",
   "execution_count": 6,
   "metadata": {},
   "outputs": [],
   "source": [
    "# Define the colors used for the map and path\n",
    "COLOR_MAP = (255, 255, 255)  # white\n",
    "COLOR_OBSTACLE = (0, 0, 0)  # black\n",
    "COLOR_START = (0, 255, 0)  # green\n",
    "COLOR_GOAL = (0, 0, 255)  # red\n",
    "COLOR_PATH = (255, 0, 0)  # blue\n",
    "\n",
    "# Define the size of each cell in the image\n",
    "CELL_SIZE = 1\n",
    "\n",
    "def create_map_image(map):\n",
    "    # Create a blank image with the correct dimensions\n",
    "    image = np.zeros((len(map) * CELL_SIZE, len(map[0]) * CELL_SIZE, 3), dtype=np.uint8)\n",
    "    start, goal = find_start_end(map)\n",
    "\n",
    "    # Loop through each cell in the map and draw it in the image\n",
    "    for i in range(len(map)):\n",
    "        for j in range(len(map[0])):\n",
    "            # Determine the color of the cell\n",
    "            if map[i][j] == 1:\n",
    "                color = COLOR_OBSTACLE\n",
    "            else:\n",
    "                color = COLOR_MAP\n",
    "            \n",
    "            # Draw the cell in the image\n",
    "            x = j * CELL_SIZE\n",
    "            y = i * CELL_SIZE\n",
    "            cv2.rectangle(image, (x, y), (x + CELL_SIZE, y + CELL_SIZE), color, -1)\n",
    "\n",
    "            #Draw start and goal in the map\n",
    "            start_x = start[1] * CELL_SIZE + CELL_SIZE // 2\n",
    "            start_y = start[0] * CELL_SIZE + CELL_SIZE // 2\n",
    "            goal_x = goal[1] * CELL_SIZE + CELL_SIZE // 2\n",
    "            goal_y = goal[0] * CELL_SIZE + CELL_SIZE // 2\n",
    "            cv2.circle(image, (start_x, start_y), CELL_SIZE // 2, COLOR_START, -1)\n",
    "            cv2.circle(image, (goal_x, goal_y), CELL_SIZE // 2, COLOR_GOAL, -1)\n",
    "    \n",
    "    return image"
   ]
  },
  {
   "cell_type": "code",
   "execution_count": 7,
   "metadata": {},
   "outputs": [],
   "source": [
    "def draw_path_on_image(image, path):\n",
    "    # Loop through each point in the path and draw it on the image\n",
    "    for i in range(len(path)-1):\n",
    "        # Determine the coordinates of the two points\n",
    "        x1 = path[i][1] * CELL_SIZE + CELL_SIZE // 2\n",
    "        y1 = path[i][0] * CELL_SIZE + CELL_SIZE // 2\n",
    "        x2 = path[i+1][1] * CELL_SIZE + CELL_SIZE // 2\n",
    "        y2 = path[i+1][0] * CELL_SIZE + CELL_SIZE // 2\n",
    "        \n",
    "        # Draw a line between the two points\n",
    "        cv2.line(image, (x1, y1), (x2, y2), COLOR_PATH, 1)\n",
    "    \n",
    "    return image"
   ]
  },
  {
   "cell_type": "code",
   "execution_count": 8,
   "metadata": {},
   "outputs": [
    {
     "data": {
      "image/png": "[encoded data removed]",
      "text/plain": [
       "<Figure size 640x480 with 1 Axes>"
      ]
     },
     "metadata": {},
     "output_type": "display_data"
    },
    {
     "data": {
      "image/png": "[encoded data removed]",
      "text/plain": [
       "<Figure size 640x480 with 1 Axes>"
      ]
     },
     "metadata": {},
     "output_type": "display_data"
    }
   ],
   "source": [
    "# Generate a random map\n",
    "map = generate_random_maps(32, 32)\n",
    "\n",
    "# Generate random start and goal points\n",
    "start, goal = find_start_end(map)\n",
    "\n",
    "# Run the A* algorithm to find the path\n",
    "path = a_star(start, goal, map)\n",
    "if path == \"None\":\n",
    "  print(\"No path found\")\n",
    "\n",
    "# Create an image of the map\n",
    "map_image = create_map_image(map)\n",
    "\n",
    "# Draw the path on the image\n",
    "path_image = draw_path_on_image(map_image.copy(), path)\n",
    "\n",
    "# Draw the start and goal points on the image\n",
    "start_x = start[1] * CELL_SIZE + CELL_SIZE // 2\n",
    "start_y = start[0] * CELL_SIZE + CELL_SIZE // 2\n",
    "goal_x = goal[1] * CELL_SIZE + CELL_SIZE // 2\n",
    "goal_y = goal[0] * CELL_SIZE + CELL_SIZE // 2\n",
    "cv2.circle(path_image, (start_x, start_y), CELL_SIZE // 2, COLOR_START, -1)\n",
    "cv2.circle(path_image, (goal_x, goal_y), CELL_SIZE // 2, COLOR_GOAL, -1)\n",
    "\n",
    "# Display the images\n",
    "plt.imshow(cv2.cvtColor(map_image, cv2.COLOR_BGR2RGB))\n",
    "plt.show()\n",
    "plt.imshow(cv2.cvtColor(path_image, cv2.COLOR_BGR2RGB))  \n",
    "plt.show()\n"
   ]
  },
  {
   "cell_type": "code",
   "execution_count": 9,
   "metadata": {},
   "outputs": [],
   "source": [
    "def preprocess_image(img):\n",
    "\n",
    "    # Convert the input image to grayscale and resize to 64x64\n",
    "    img = cv2.cvtColor(img, cv2.COLOR_BGR2GRAY)\n",
    "    img = cv2.resize(img, (32, 32), interpolation=cv2.INTER_LINEAR)\n",
    "\n",
    "    # Convert the input image to a numpy array\n",
    "    img = np.array(img)\n",
    "\n",
    "    # # Normalize the input image to the range [-1, 1]\n",
    "    # img = (img.astype(np.float32) / 255.0)\n",
    "    img = (img - 127.5) / 127.5\n",
    "\n",
    "    # Add a channel dimension to the input image\n",
    "    img = np.expand_dims(img, axis=-1)\n",
    "\n",
    "    # # Reshape the input image to match the expected shape of the generator model\n",
    "    # img = np.reshape(img, (1, 32, 32, 1))\n",
    "    \n",
    "    return img"
   ]
  },
  {
   "cell_type": "code",
   "execution_count": 10,
   "metadata": {},
   "outputs": [],
   "source": [
    "def generate_dataset(n):\n",
    "    map_images = []\n",
    "    path_images = []\n",
    "    i = 0\n",
    "    while i != n:\n",
    "        map_data = generate_random_maps(32, 32)\n",
    "        map_image = create_map_image(map_data)\n",
    "        start, goal = find_start_end(map_data)\n",
    "        path = a_star(start, goal, map)\n",
    "        if path is not None:\n",
    "            path_image = draw_path_on_image(map_image.copy(), path)\n",
    "            map_image  = preprocess_image(map_image)\n",
    "            path_image = preprocess_image(path_image)\n",
    "            map_images.append(map_image)\n",
    "            path_images.append(path_image)\n",
    "            i+=1\n",
    "    return np.array(map_images), np.array(path_images)"
   ]
  },
  {
   "cell_type": "code",
   "execution_count": 11,
   "metadata": {},
   "outputs": [],
   "source": [
    "X, Y = generate_dataset(1000)"
   ]
  },
  {
   "cell_type": "code",
   "execution_count": 12,
   "metadata": {},
   "outputs": [],
   "source": [
    "# Convert the input and target images to TensorFlow tensors and create a TensorFlow dataset\n",
    "input_images = tf.convert_to_tensor(X)\n",
    "target_images = tf.convert_to_tensor(Y)\n",
    "dataset = tf.data.Dataset.from_tensor_slices((input_images, target_images))\n",
    "# # Batch into 128 images per sample\n",
    "dataset = dataset.batch(128)\n",
    "# # Reduces the likelihood of bottlenecking \n",
    "dataset = dataset.prefetch(64)"
   ]
  },
  {
   "cell_type": "code",
   "execution_count": 13,
   "metadata": {},
   "outputs": [],
   "source": [
    "def make_generator_model():\n",
    "    model = tf.keras.Sequential()\n",
    "    # Input layer\n",
    "    model.add(layers.InputLayer(input_shape=(32, 32, 1)))\n",
    "    model.add(layers.LeakyReLU(0.2))\n",
    "\n",
    "    #upsampling 1\n",
    "    model.add(layers.UpSampling2D())\n",
    "    model.add(layers.Conv2D(64, 4, padding='same'))\n",
    "    model.add(layers.LeakyReLU(0.2))\n",
    "\n",
    "    # convulation layers\n",
    "    model.add(layers.Conv2D(64, 4, padding='same'))\n",
    "    model.add(layers.LeakyReLU(0.2))\n",
    "\n",
    "    model.add(layers.Conv2D(64, 4, padding='same'))\n",
    "    model.add(layers.LeakyReLU(0.2))\n",
    "\n",
    "    model.add(layers.Conv2D(64, 4, padding='same'))\n",
    "    model.add(layers.LeakyReLU(0.2))\n",
    "\n",
    "    model.add(layers.Conv2D(64, 4, padding='same'))\n",
    "    model.add(layers.LeakyReLU(0.2))\n",
    "\n",
    "    model.add(layers.Conv2D(64, 4, padding='same'))\n",
    "    model.add(layers.LeakyReLU(0.2))\n",
    "\n",
    "    model.add(layers.Conv2D(64, 4, padding='same'))\n",
    "    model.add(layers.LeakyReLU(0.2))\n",
    "\n",
    "    model.add(layers.Conv2D(64, 4, padding='same'))\n",
    "    model.add(layers.LeakyReLU(0.2))\n",
    "\n",
    "    model.add(layers.Conv2D(64, 4, padding='same'))\n",
    "    model.add(layers.LeakyReLU(0.2))\n",
    "    \n",
    "    # #pooling\n",
    "    model.add(layers.MaxPooling2D(pool_size=2))\n",
    "    model.add(layers.Conv2D(32, 4, padding='same'))\n",
    "    model.add(layers.LeakyReLU(0.2))\n",
    "    # Output layer\n",
    "    model.add(layers.Conv2D(1, 4, padding='same', activation='sigmoid'))\n",
    "    \n",
    "    return model"
   ]
  },
  {
   "cell_type": "code",
   "execution_count": 14,
   "metadata": {},
   "outputs": [],
   "source": [
    "test_model = make_generator_model()"
   ]
  },
  {
   "cell_type": "code",
   "execution_count": 15,
   "metadata": {},
   "outputs": [
    {
     "name": "stdout",
     "output_type": "stream",
     "text": [
      "Model: \"sequential\"\n",
      "_________________________________________________________________\n",
      " Layer (type)                Output Shape              Param #   \n",
      "=================================================================\n",
      " leaky_re_lu (LeakyReLU)     (None, 32, 32, 1)         0         \n",
      "                                                                 \n",
      " up_sampling2d (UpSampling2D  (None, 64, 64, 1)        0         \n",
      " )                                                               \n",
      "                                                                 \n",
      " conv2d (Conv2D)             (None, 64, 64, 64)        1088      \n",
      "                                                                 \n",
      " leaky_re_lu_1 (LeakyReLU)   (None, 64, 64, 64)        0         \n",
      "                                                                 \n",
      " conv2d_1 (Conv2D)           (None, 64, 64, 64)        65600     \n",
      "                                                                 \n",
      " leaky_re_lu_2 (LeakyReLU)   (None, 64, 64, 64)        0         \n",
      "                                                                 \n",
      " conv2d_2 (Conv2D)           (None, 64, 64, 64)        65600     \n",
      "                                                                 \n",
      " leaky_re_lu_3 (LeakyReLU)   (None, 64, 64, 64)        0         \n",
      "                                                                 \n",
      " conv2d_3 (Conv2D)           (None, 64, 64, 64)        65600     \n",
      "                                                                 \n",
      " leaky_re_lu_4 (LeakyReLU)   (None, 64, 64, 64)        0         \n",
      "                                                                 \n",
      " conv2d_4 (Conv2D)           (None, 64, 64, 64)        65600     \n",
      "                                                                 \n",
      " leaky_re_lu_5 (LeakyReLU)   (None, 64, 64, 64)        0         \n",
      "                                                                 \n",
      " conv2d_5 (Conv2D)           (None, 64, 64, 64)        65600     \n",
      "                                                                 \n",
      " leaky_re_lu_6 (LeakyReLU)   (None, 64, 64, 64)        0         \n",
      "                                                                 \n",
      " conv2d_6 (Conv2D)           (None, 64, 64, 64)        65600     \n",
      "                                                                 \n",
      " leaky_re_lu_7 (LeakyReLU)   (None, 64, 64, 64)        0         \n",
      "                                                                 \n",
      " conv2d_7 (Conv2D)           (None, 64, 64, 64)        65600     \n",
      "                                                                 \n",
      " leaky_re_lu_8 (LeakyReLU)   (None, 64, 64, 64)        0         \n",
      "                                                                 \n",
      " conv2d_8 (Conv2D)           (None, 64, 64, 64)        65600     \n",
      "                                                                 \n",
      " leaky_re_lu_9 (LeakyReLU)   (None, 64, 64, 64)        0         \n",
      "                                                                 \n",
      " max_pooling2d (MaxPooling2D  (None, 32, 32, 64)       0         \n",
      " )                                                               \n",
      "                                                                 \n",
      " conv2d_9 (Conv2D)           (None, 32, 32, 32)        32800     \n",
      "                                                                 \n",
      " leaky_re_lu_10 (LeakyReLU)  (None, 32, 32, 32)        0         \n",
      "                                                                 \n",
      " conv2d_10 (Conv2D)          (None, 32, 32, 1)         513       \n",
      "                                                                 \n",
      "=================================================================\n",
      "Total params: 559,201\n",
      "Trainable params: 559,201\n",
      "Non-trainable params: 0\n",
      "_________________________________________________________________\n"
     ]
    }
   ],
   "source": [
    "test_model.summary()"
   ]
  },
  {
   "cell_type": "code",
   "execution_count": 16,
   "metadata": {},
   "outputs": [
    {
     "data": {
      "image/png": "[encoded data removed]",
      "text/plain": [
       "<Figure size 640x480 with 1 Axes>"
      ]
     },
     "metadata": {},
     "output_type": "display_data"
    },
    {
     "data": {
      "image/png": "[encoded data removed]",
      "text/plain": [
       "<Figure size 640x480 with 1 Axes>"
      ]
     },
     "metadata": {},
     "output_type": "display_data"
    },
    {
     "name": "stdout",
     "output_type": "stream",
     "text": [
      "1/1 [==============================] - 2s 2s/step\n"
     ]
    },
    {
     "data": {
      "text/plain": [
       "<matplotlib.image.AxesImage at 0x204b6d1d070>"
      ]
     },
     "execution_count": 16,
     "metadata": {},
     "output_type": "execute_result"
    },
    {
     "data": {
      "image/png": "[encoded data removed]",
      "text/plain": [
       "<Figure size 640x480 with 1 Axes>"
      ]
     },
     "metadata": {},
     "output_type": "display_data"
    }
   ],
   "source": [
    "img_1 = input_images[2]\n",
    "plt.imshow(img_1)\n",
    "plt.show()\n",
    "img_1 = np.reshape(img_1, (1, 32, 32, 1))\n",
    "out_1 = target_images[2]\n",
    "plt.imshow(out_1)\n",
    "plt.show()\n",
    "p1 = test_model.predict(img_1)\n",
    "p1_squeezed = np.squeeze(p1, axis=0)\n",
    "plt.imshow(p1_squeezed, cmap=\"gray\")"
   ]
  },
  {
   "cell_type": "code",
   "execution_count": 17,
   "metadata": {},
   "outputs": [],
   "source": [
    "def make_discriminator_model():\n",
    "    model = tf.keras.Sequential()\n",
    "\n",
    "    # Input layer\n",
    "    model.add(layers.InputLayer(input_shape=(32, 32, 1)))\n",
    "    model.add(layers.LeakyReLU(0.2))\n",
    "\n",
    "    # Convolutional layers\n",
    "    model.add(layers.Conv2D(32, 4, padding='same'))\n",
    "    model.add(layers.LeakyReLU(0.2))\n",
    "    model.add(layers.Dropout(0.4))\n",
    "\n",
    "    model.add(layers.Conv2D(64, 4, padding='same'))\n",
    "    model.add(layers.LeakyReLU(0.2))\n",
    "    model.add(layers.Dropout(0.4))\n",
    "\n",
    "    model.add(layers.Conv2D(64, 4, padding='same'))\n",
    "    model.add(layers.LeakyReLU(0.2))\n",
    "    model.add(layers.Dropout(0.4))\n",
    "\n",
    "    model.add(layers.Conv2D(64, 4, padding='same'))\n",
    "    model.add(layers.LeakyReLU(0.2))\n",
    "    model.add(layers.Dropout(0.4))\n",
    "\n",
    "    model.add(layers.Conv2D(64, 4, padding='same'))\n",
    "    model.add(layers.LeakyReLU(0.2))\n",
    "    model.add(layers.Dropout(0.4))\n",
    "\n",
    "    model.add(layers.Conv2D(64, 4, padding='same'))\n",
    "    model.add(layers.LeakyReLU(0.2))\n",
    "    model.add(layers.Dropout(0.4))\n",
    "\n",
    "    model.add(layers.Conv2D(64, 4, padding='same'))\n",
    "    model.add(layers.LeakyReLU(0.2))\n",
    "    model.add(layers.Dropout(0.4))\n",
    "\n",
    "    model.add(layers.Conv2D(64, 4, padding='same'))\n",
    "    model.add(layers.LeakyReLU(0.2))\n",
    "    model.add(layers.Dropout(0.4))\n",
    "\n",
    "    model.add(layers.Conv2D(64, 4, padding='same'))\n",
    "    model.add(layers.LeakyReLU(0.2))\n",
    "    model.add(layers.Dropout(0.4))\n",
    "\n",
    "    model.add(layers.Conv2D(64, 4, padding='same'))\n",
    "    model.add(layers.LeakyReLU(0.2))\n",
    "    model.add(layers.Dropout(0.4))\n",
    "\n",
    "    model.add(layers.Conv2D(64, 4, padding='same'))\n",
    "    model.add(layers.LeakyReLU(0.2))\n",
    "    model.add(layers.Dropout(0.4))\n",
    "\n",
    "    model.add(layers.Conv2D(64, 4, padding='same'))\n",
    "    model.add(layers.LeakyReLU(0.2))\n",
    "    model.add(layers.Dropout(0.4))\n",
    "\n",
    "    model.add(layers.Conv2D(64, 4, padding='same'))\n",
    "    model.add(layers.LeakyReLU(0.2))\n",
    "    model.add(layers.Dropout(0.4))\n",
    "\n",
    "    model.add(layers.Conv2D(64, 4, padding='same'))\n",
    "    model.add(layers.LeakyReLU(0.2))\n",
    "    model.add(layers.Dropout(0.4))\n",
    "\n",
    "    model.add(layers.Conv2D(64, 4, padding='same'))\n",
    "    model.add(layers.LeakyReLU(0.2))\n",
    "    model.add(layers.Dropout(0.4))\n",
    "\n",
    "    model.add(layers.Conv2D(64, 4, padding='same'))\n",
    "    model.add(layers.LeakyReLU(0.2))\n",
    "    model.add(layers.Dropout(0.4))\n",
    "\n",
    "    model.add(layers.Flatten())\n",
    "    model.add(layers.Dropout(0.4))\n",
    "    model.add(layers.Dense(1, activation='sigmoid'))\n",
    "\n",
    "    return model"
   ]
  },
  {
   "cell_type": "code",
   "execution_count": 18,
   "metadata": {},
   "outputs": [],
   "source": [
    "test_disc = make_discriminator_model()"
   ]
  },
  {
   "cell_type": "code",
   "execution_count": 19,
   "metadata": {},
   "outputs": [
    {
     "name": "stdout",
     "output_type": "stream",
     "text": [
      "Model: \"sequential_1\"\n",
      "_________________________________________________________________\n",
      " Layer (type)                Output Shape              Param #   \n",
      "=================================================================\n",
      " leaky_re_lu_11 (LeakyReLU)  (None, 32, 32, 1)         0         \n",
      "                                                                 \n",
      " conv2d_11 (Conv2D)          (None, 32, 32, 32)        544       \n",
      "                                                                 \n",
      " leaky_re_lu_12 (LeakyReLU)  (None, 32, 32, 32)        0         \n",
      "                                                                 \n",
      " dropout (Dropout)           (None, 32, 32, 32)        0         \n",
      "                                                                 \n",
      " conv2d_12 (Conv2D)          (None, 32, 32, 64)        32832     \n",
      "                                                                 \n",
      " leaky_re_lu_13 (LeakyReLU)  (None, 32, 32, 64)        0         \n",
      "                                                                 \n",
      " dropout_1 (Dropout)         (None, 32, 32, 64)        0         \n",
      "                                                                 \n",
      " conv2d_13 (Conv2D)          (None, 32, 32, 64)        65600     \n",
      "                                                                 \n",
      " leaky_re_lu_14 (LeakyReLU)  (None, 32, 32, 64)        0         \n",
      "                                                                 \n",
      " dropout_2 (Dropout)         (None, 32, 32, 64)        0         \n",
      "                                                                 \n",
      " conv2d_14 (Conv2D)          (None, 32, 32, 64)        65600     \n",
      "                                                                 \n",
      " leaky_re_lu_15 (LeakyReLU)  (None, 32, 32, 64)        0         \n",
      "                                                                 \n",
      " dropout_3 (Dropout)         (None, 32, 32, 64)        0         \n",
      "                                                                 \n",
      " conv2d_15 (Conv2D)          (None, 32, 32, 64)        65600     \n",
      "                                                                 \n",
      " leaky_re_lu_16 (LeakyReLU)  (None, 32, 32, 64)        0         \n",
      "                                                                 \n",
      " dropout_4 (Dropout)         (None, 32, 32, 64)        0         \n",
      "                                                                 \n",
      " conv2d_16 (Conv2D)          (None, 32, 32, 64)        65600     \n",
      "                                                                 \n",
      " leaky_re_lu_17 (LeakyReLU)  (None, 32, 32, 64)        0         \n",
      "                                                                 \n",
      " dropout_5 (Dropout)         (None, 32, 32, 64)        0         \n",
      "                                                                 \n",
      " conv2d_17 (Conv2D)          (None, 32, 32, 64)        65600     \n",
      "                                                                 \n",
      " leaky_re_lu_18 (LeakyReLU)  (None, 32, 32, 64)        0         \n",
      "                                                                 \n",
      " dropout_6 (Dropout)         (None, 32, 32, 64)        0         \n",
      "                                                                 \n",
      " conv2d_18 (Conv2D)          (None, 32, 32, 64)        65600     \n",
      "                                                                 \n",
      " leaky_re_lu_19 (LeakyReLU)  (None, 32, 32, 64)        0         \n",
      "                                                                 \n",
      " dropout_7 (Dropout)         (None, 32, 32, 64)        0         \n",
      "                                                                 \n",
      " conv2d_19 (Conv2D)          (None, 32, 32, 64)        65600     \n",
      "                                                                 \n",
      " leaky_re_lu_20 (LeakyReLU)  (None, 32, 32, 64)        0         \n",
      "                                                                 \n",
      " dropout_8 (Dropout)         (None, 32, 32, 64)        0         \n",
      "                                                                 \n",
      " conv2d_20 (Conv2D)          (None, 32, 32, 64)        65600     \n",
      "                                                                 \n",
      " leaky_re_lu_21 (LeakyReLU)  (None, 32, 32, 64)        0         \n",
      "                                                                 \n",
      " dropout_9 (Dropout)         (None, 32, 32, 64)        0         \n",
      "                                                                 \n",
      " conv2d_21 (Conv2D)          (None, 32, 32, 64)        65600     \n",
      "                                                                 \n",
      " leaky_re_lu_22 (LeakyReLU)  (None, 32, 32, 64)        0         \n",
      "                                                                 \n",
      " dropout_10 (Dropout)        (None, 32, 32, 64)        0         \n",
      "                                                                 \n",
      " conv2d_22 (Conv2D)          (None, 32, 32, 64)        65600     \n",
      "                                                                 \n",
      " leaky_re_lu_23 (LeakyReLU)  (None, 32, 32, 64)        0         \n",
      "                                                                 \n",
      " dropout_11 (Dropout)        (None, 32, 32, 64)        0         \n",
      "                                                                 \n",
      " conv2d_23 (Conv2D)          (None, 32, 32, 64)        65600     \n",
      "                                                                 \n",
      " leaky_re_lu_24 (LeakyReLU)  (None, 32, 32, 64)        0         \n",
      "                                                                 \n",
      " dropout_12 (Dropout)        (None, 32, 32, 64)        0         \n",
      "                                                                 \n",
      " conv2d_24 (Conv2D)          (None, 32, 32, 64)        65600     \n",
      "                                                                 \n",
      " leaky_re_lu_25 (LeakyReLU)  (None, 32, 32, 64)        0         \n",
      "                                                                 \n",
      " dropout_13 (Dropout)        (None, 32, 32, 64)        0         \n",
      "                                                                 \n",
      " conv2d_25 (Conv2D)          (None, 32, 32, 64)        65600     \n",
      "                                                                 \n",
      " leaky_re_lu_26 (LeakyReLU)  (None, 32, 32, 64)        0         \n",
      "                                                                 \n",
      " dropout_14 (Dropout)        (None, 32, 32, 64)        0         \n",
      "                                                                 \n",
      " conv2d_26 (Conv2D)          (None, 32, 32, 64)        65600     \n",
      "                                                                 \n",
      " leaky_re_lu_27 (LeakyReLU)  (None, 32, 32, 64)        0         \n",
      "                                                                 \n",
      " dropout_15 (Dropout)        (None, 32, 32, 64)        0         \n",
      "                                                                 \n",
      " flatten (Flatten)           (None, 65536)             0         \n",
      "                                                                 \n",
      " dropout_16 (Dropout)        (None, 65536)             0         \n",
      "                                                                 \n",
      " dense (Dense)               (None, 1)                 65537     \n",
      "                                                                 \n",
      "=================================================================\n",
      "Total params: 1,017,313\n",
      "Trainable params: 1,017,313\n",
      "Non-trainable params: 0\n",
      "_________________________________________________________________\n"
     ]
    }
   ],
   "source": [
    "test_disc.summary()"
   ]
  },
  {
   "cell_type": "code",
   "execution_count": 20,
   "metadata": {},
   "outputs": [
    {
     "name": "stdout",
     "output_type": "stream",
     "text": [
      "(32, 32, 1)\n",
      "1/1 [==============================] - 0s 250ms/step\n",
      "[[0.49988413]]\n"
     ]
    }
   ],
   "source": [
    "print(p1_squeezed.shape)\n",
    "test_check_true = test_disc.predict(np.expand_dims(p1_squeezed, 0))\n",
    "print(test_check_true)"
   ]
  },
  {
   "cell_type": "code",
   "execution_count": 21,
   "metadata": {},
   "outputs": [],
   "source": [
    "#Define the optimizers for the generator and discriminator\n",
    "generator_optimizer = Adam(learning_rate=0.0001)\n",
    "discriminator_optimizer = Adam(learning_rate=0.00001)\n",
    "\n",
    "gen_loss = tf.keras.losses.BinaryCrossentropy()\n",
    "disc_loss = tf.keras.losses.BinaryCrossentropy()"
   ]
  },
  {
   "cell_type": "code",
   "execution_count": 22,
   "metadata": {},
   "outputs": [],
   "source": [
    "#Define the generator and discriminator models\n",
    "generator = make_generator_model()\n",
    "discriminator = make_discriminator_model()\n",
    "\n",
    "#Define the loss functions for the generator and discriminator\n",
    "cross_entropy = tf.keras.losses.BinaryCrossentropy(from_logits=False)"
   ]
  },
  {
   "cell_type": "code",
   "execution_count": 23,
   "metadata": {},
   "outputs": [],
   "source": [
    "def generator_loss(fake_output):\n",
    "    return cross_entropy(tf.ones_like(fake_output), fake_output)\n",
    "\n",
    "def discriminator_loss(real_output, fake_output):\n",
    "    real_loss = cross_entropy(tf.ones_like(real_output), real_output)\n",
    "    fake_loss = cross_entropy(tf.zeros_like(fake_output), fake_output)\n",
    "    total_loss = real_loss + fake_loss\n",
    "    return total_loss\n",
    "\n",
    "# Define the optimizers for the generator and discriminator\n",
    "generator_optimizer = tf.keras.optimizers.Adam(0.0001)\n",
    "discriminator_optimizer = tf.keras.optimizers.Adam(0.00001)"
   ]
  },
  {
   "cell_type": "code",
   "execution_count": 24,
   "metadata": {},
   "outputs": [],
   "source": [
    "# Define the training loop\n",
    "gen_loss = 0\n",
    "disc_loss = 0\n",
    "\n",
    "@tf.function\n",
    "def train_step(input_image, target):\n",
    "    with tf.GradientTape() as gen_tape, tf.GradientTape() as disc_tape:\n",
    "        # Generate a path image from the input image using the generator\n",
    "        generated_path = generator(input_image, training=True)\n",
    "\n",
    "        # Get the outputs of the discriminator for the real and generated path images\n",
    "        real_output = discriminator(target, training=True)\n",
    "        fake_output = discriminator(generated_path, training=True)\n",
    "\n",
    "        # Calculate the loss for the generator and discriminator\n",
    "        gen_loss = generator_loss(fake_output)\n",
    "        disc_loss = discriminator_loss(real_output, fake_output)\n",
    "\n",
    "    # Calculate the gradients for the generator and discriminator\n",
    "    gradients_of_generator = gen_tape.gradient(gen_loss, generator.trainable_variables)\n",
    "    gradients_of_discriminator = disc_tape.gradient(disc_loss, discriminator.trainable_variables)\n",
    "\n",
    "    # Apply the gradients to the optimizer for the generator and discriminator\n",
    "    generator_optimizer.apply_gradients(zip(gradients_of_generator, generator.trainable_variables))\n",
    "    discriminator_optimizer.apply_gradients(zip(gradients_of_discriminator, discriminator.trainable_variables))\n",
    "\n",
    "# Define the training loop\n",
    "def train(dataset, epochs):\n",
    "    for epoch in range(epochs):\n",
    "        print(epoch+1, \"started\")\n",
    "        for input_image, target in dataset:\n",
    "\n",
    "            # Train the generator and discriminator on the input and target images\n",
    "            train_step(input_image, target)\n",
    "\n",
    "        # Print the loss for the generator and discriminator at the end of each epoch\n",
    "        if (epoch + 1) % 10 == 0:\n",
    "            print(f\"Epoch {epoch + 1}: Generator Loss = {gen_loss}, Discriminator Loss = {disc_loss}\")"
   ]
  },
  {
   "cell_type": "code",
   "execution_count": 25,
   "metadata": {},
   "outputs": [
    {
     "name": "stdout",
     "output_type": "stream",
     "text": [
      "1 started\n",
      "2 started\n",
      "3 started\n",
      "4 started\n",
      "5 started\n",
      "6 started\n",
      "7 started\n",
      "8 started\n",
      "9 started\n",
      "10 started\n",
      "Epoch 10: Generator Loss = 0, Discriminator Loss = 0\n",
      "11 started\n",
      "12 started\n",
      "13 started\n",
      "14 started\n",
      "15 started\n",
      "16 started\n",
      "17 started\n",
      "18 started\n",
      "19 started\n",
      "20 started\n",
      "Epoch 20: Generator Loss = 0, Discriminator Loss = 0\n"
     ]
    }
   ],
   "source": [
    "train(dataset, 20)"
   ]
  },
  {
   "cell_type": "code",
   "execution_count": 26,
   "metadata": {},
   "outputs": [
    {
     "data": {
      "image/png": "[encoded data removed]",
      "text/plain": [
       "<Figure size 640x480 with 1 Axes>"
      ]
     },
     "metadata": {},
     "output_type": "display_data"
    },
    {
     "data": {
      "text/plain": [
       "<matplotlib.image.AxesImage at 0x204b965d7f0>"
      ]
     },
     "execution_count": 26,
     "metadata": {},
     "output_type": "execute_result"
    },
    {
     "data": {
      "image/png": "[encoded data removed]",
      "text/plain": [
       "<Figure size 640x480 with 1 Axes>"
      ]
     },
     "metadata": {},
     "output_type": "display_data"
    }
   ],
   "source": [
    "test_map_data = generate_random_maps(32, 32)\n",
    "test_map_image = create_map_image(test_map_data)\n",
    "start, goal = find_start_end(test_map_data)\n",
    "test_path = a_star(start, goal, map)\n",
    "test_path_image = draw_path_on_image(test_map_image.copy(), test_path)\n",
    "plt.imshow(test_map_image)\n",
    "plt.show()\n",
    "plt.imshow(test_path_image)"
   ]
  },
  {
   "cell_type": "code",
   "execution_count": 27,
   "metadata": {},
   "outputs": [
    {
     "name": "stdout",
     "output_type": "stream",
     "text": [
      "WARNING:tensorflow:Model was constructed with shape (None, 32, 32, 1) for input KerasTensor(type_spec=TensorSpec(shape=(None, 32, 32, 1), dtype=tf.float32, name='input_3'), name='input_3', description=\"created by layer 'input_3'\"), but it was called on an input with incompatible shape (32, 32, 1, 1).\n",
      "1/1 [==============================] - 1s 539ms/step\n"
     ]
    }
   ],
   "source": [
    "test_map_image_pre = preprocess_image(test_map_image)\n",
    "generated_map = generator.predict(test_map_image_pre)"
   ]
  },
  {
   "cell_type": "code",
   "execution_count": 28,
   "metadata": {},
   "outputs": [],
   "source": [
    "generated_map = generated_map*255"
   ]
  },
  {
   "cell_type": "code",
   "execution_count": 29,
   "metadata": {},
   "outputs": [
    {
     "data": {
      "text/plain": [
       "array([128.98279, 129.62477, 131.65369, 133.47536, 133.47537, 133.79868,\n",
       "       133.82285, 134.09068, 134.20181, 134.67456, 134.82132, 134.94482,\n",
       "       134.95059, 134.95068, 134.9507 , 135.15001, 135.1501 , 135.15012,\n",
       "       135.38208, 135.38313, 135.4806 , 135.48064, 135.48476, 135.52148,\n",
       "       135.54462, 135.56485, 135.63765, 135.65607, 135.65608, 135.70085,\n",
       "       135.85114, 135.95372, 136.11165, 136.12599, 136.17479, 136.17496,\n",
       "       136.21729, 136.40428, 136.41086, 136.4865 , 136.4882 , 136.48825,\n",
       "       136.55838, 136.68613, 136.68628, 136.70299, 136.70316, 136.70413,\n",
       "       136.70505, 136.72922, 136.7449 , 136.74744, 136.74745, 136.7476 ,\n",
       "       136.79117, 136.79176, 136.80473, 136.80475, 136.81621, 136.82837,\n",
       "       136.85493, 136.89006, 136.9012 , 136.90341, 136.90952, 136.9512 ,\n",
       "       136.99373, 137.00026, 137.04085, 137.05159, 137.0517 , 137.05803,\n",
       "       137.05806, 137.07162, 137.09932, 137.12756, 137.13419, 137.14247,\n",
       "       137.14252, 137.14795, 137.16444, 137.17857, 137.21977, 137.23587,\n",
       "       137.236  , 137.24411, 137.29066, 137.29677, 137.29678, 137.304  ,\n",
       "       137.32529, 137.33437, 137.3395 , 137.3452 , 137.34528, 137.34529,\n",
       "       137.34532, 137.34552, 137.3568 , 137.36732, 137.37636, 137.37643,\n",
       "       137.37769, 137.37773, 137.38965, 137.38977, 137.44655, 137.49292,\n",
       "       137.50125, 137.52003, 137.54109, 137.54169, 137.57611, 137.62605,\n",
       "       137.62782, 137.6312 , 137.63388, 137.63399, 137.6651 , 137.66685,\n",
       "       137.667  , 137.6671 , 137.68259, 137.68318, 137.69278, 137.69551,\n",
       "       137.71481, 137.76045, 137.78523, 137.7882 , 137.82597, 137.82692,\n",
       "       137.82722, 137.83276, 137.83278, 137.83597, 137.8371 , 137.83728,\n",
       "       137.86267, 137.86287, 137.8633 , 137.86751, 137.86752, 137.86765,\n",
       "       137.86766, 137.86885, 137.87337, 137.88005, 137.88336, 137.88457,\n",
       "       137.88605, 137.8988 , 137.89902, 137.90054, 137.90063, 137.90384,\n",
       "       137.90567, 137.91501, 137.93253, 137.93692, 137.93785, 137.94955,\n",
       "       137.9833 , 137.98584, 137.99008, 137.99062, 137.99068, 137.9911 ,\n",
       "       137.99327, 137.995  , 137.99988, 137.99997, 137.99998, 138.00893,\n",
       "       138.01056, 138.01059, 138.01064, 138.01138, 138.01257, 138.01746,\n",
       "       138.02057, 138.02513, 138.02525, 138.02527, 138.02528, 138.03406,\n",
       "       138.03517, 138.03528, 138.03621, 138.03838, 138.03857, 138.04031,\n",
       "       138.04053, 138.0406 , 138.0411 , 138.04144, 138.04333, 138.04338,\n",
       "       138.04344, 138.04349, 138.04398, 138.04404, 138.04405, 138.0442 ,\n",
       "       138.04431, 138.04454, 138.04509, 138.04512, 138.04514, 138.04515,\n",
       "       138.04517, 138.04518, 138.0453 , 138.04533, 138.04535, 138.04578,\n",
       "       138.04579], dtype=float32)"
      ]
     },
     "execution_count": 29,
     "metadata": {},
     "output_type": "execute_result"
    }
   ],
   "source": [
    "np.unique(generated_map)"
   ]
  },
  {
   "cell_type": "code",
   "execution_count": 30,
   "metadata": {},
   "outputs": [
    {
     "data": {
      "text/plain": [
       "<matplotlib.legend.Legend at 0x204b95a8820>"
      ]
     },
     "execution_count": 30,
     "metadata": {},
     "output_type": "execute_result"
    },
    {
     "data": {
      "image/png": "[encoded data removed]",
      "text/plain": [
       "<Figure size 640x480 with 1 Axes>"
      ]
     },
     "metadata": {},
     "output_type": "display_data"
    }
   ],
   "source": [
    "# Compute the cost of each generated path using a cost function appropriate for your use case\n",
    "def path_cost(path):\n",
    "    return np.sum(np.sqrt(np.sum(np.diff(path, axis=0) ** 2, axis=1)))\n",
    "\n",
    "generated_path_costs = [path_cost(path) for path in generated_map]\n",
    "ground_truth_path_costs = [path_cost(path) for path in test_path_image]\n",
    "\n",
    "# Compare the distribution of generated path costs to the distribution of path costs in the testing set\n",
    "plt.hist(generated_path_costs, bins=20, alpha=0.5, label='Generated Paths')\n",
    "plt.hist(ground_truth_path_costs, bins=20, alpha=0.5, label='Ground Truth Paths')\n",
    "plt.xlabel(\"Path Costs\")\n",
    "plt.ylabel(\"Frequency\")\n",
    "plt.legend()"
   ]
  },
  {
   "cell_type": "code",
   "execution_count": 31,
   "metadata": {},
   "outputs": [],
   "source": [
    "gt_path = (test_path_image).astype(np.uint8)\n",
    "test_map_image_copy = test_map_image.copy()"
   ]
  },
  {
   "cell_type": "code",
   "execution_count": 32,
   "metadata": {},
   "outputs": [
    {
     "data": {
      "image/png": "[encoded data removed]",
      "text/plain": [
       "<Figure size 640x480 with 1 Axes>"
      ]
     },
     "metadata": {},
     "output_type": "display_data"
    },
    {
     "data": {
      "image/png": "[encoded data removed]",
      "text/plain": [
       "<Figure size 640x480 with 1 Axes>"
      ]
     },
     "metadata": {},
     "output_type": "display_data"
    }
   ],
   "source": [
    "# # Plot the input image\n",
    "plt.imshow(test_map_image)\n",
    "plt.show()\n",
    "plt.imshow(gt_path)\n",
    "plt.show()"
   ]
  },
  {
   "cell_type": "code",
   "execution_count": 33,
   "metadata": {},
   "outputs": [
    {
     "data": {
      "image/png": "[encoded data removed]",
      "text/plain": [
       "<Figure size 640x480 with 1 Axes>"
      ]
     },
     "metadata": {},
     "output_type": "display_data"
    }
   ],
   "source": [
    "gen_path = np.squeeze(generated_map, axis=3)\n",
    "gen_path = np.round(gen_path).astype(np.int32)\n",
    "plt.imshow(gen_path, cmap=\"gray\")\n",
    "plt.show()\n"
   ]
  }
 ],
 "metadata": {
  "kernelspec": {
   "display_name": "venv",
   "language": "python",
   "name": "python3"
  },
  "language_info": {
   "codemirror_mode": {
    "name": "ipython",
    "version": 3
   },
   "file_extension": ".py",
   "mimetype": "text/x-python",
   "name": "python",
   "nbconvert_exporter": "python",
   "pygments_lexer": "ipython3",
   "version": "3.9.0"
  },
  "orig_nbformat": 4
 },
 "nbformat": 4,
 "nbformat_minor": 2
}
