{
 "cells": [
  {
   "cell_type": "code",
   "execution_count": 1,
   "metadata": {},
   "outputs": [],
   "source": [
    "from PIL import Image, ImageDraw\n",
    "import matplotlib.pyplot as plt\n",
    "import numpy as np\n",
    "import cv2\n",
    "import heapq\n",
    "from sklearn import svm\n",
    "from sklearn.model_selection import train_test_split\n",
    "from sklearn import metrics\n",
    "import random\n",
    "import math\n",
    "import pandas as pd\n",
    "import pickle"
   ]
  },
  {
   "cell_type": "code",
   "execution_count": 2,
   "metadata": {},
   "outputs": [],
   "source": [
    "# define the dimensions and color of the cost map\n",
    "width = 32\n",
    "height = 32\n",
    "color = (255, 255, 255)"
   ]
  },
  {
   "cell_type": "code",
   "execution_count": 3,
   "metadata": {},
   "outputs": [],
   "source": [
    "def generate_random_maps(width, height, obstacle_prob):\n",
    "    # Initialize an empty map\n",
    "    map = [[0 for x in range(width)] for y in range(height)]\n",
    "    \n",
    "    # Place obstacles randomly\n",
    "    for y in range(height):\n",
    "        for x in range(width):\n",
    "            if random.random() < obstacle_prob:\n",
    "                map[y][x] = 1\n",
    "    \n",
    "    # Generate random start and end points\n",
    "    start_x, start_y = random.randint(0, width-1), random.randint(0, height-1)\n",
    "    end_x, end_y = random.randint(0, width-1), random.randint(0, height-1)\n",
    "    \n",
    "    # If start and end points are the same, regenerate end point\n",
    "    while start_x == end_x and start_y == end_y:\n",
    "        end_x, end_y = random.randint(0, width-1), random.randint(0, height-1)\n",
    "    \n",
    "    # Place start and end points on the map\n",
    "    map[start_y][start_x] = 2\n",
    "    map[end_y][end_x] = 3\n",
    "    \n",
    "    return map"
   ]
  },
  {
   "cell_type": "code",
   "execution_count": 4,
   "metadata": {},
   "outputs": [],
   "source": [
    "def a_star(start, goal, grid):\n",
    "    # Define the heuristic function\n",
    "    def heuristic(a, b):\n",
    "        # Use Euclidean distance as the heuristic\n",
    "        return math.sqrt((b[0] - a[0]) ** 2 + (b[1] - a[1]) ** 2)\n",
    "    \n",
    "    # Define the neighbors function\n",
    "    def neighbors(point):\n",
    "        x, y = point\n",
    "        results = [(x+1, y), (x-1, y), (x, y+1), (x, y-1)]\n",
    "        results = filter(lambda p: 0 <= p[0] < len(grid) and 0 <= p[1] < len(grid[0]), results)\n",
    "        results = filter(lambda p: grid[p[0]][p[1]] == 0, results)\n",
    "        return results\n",
    "    \n",
    "    # Initialize the open and closed sets\n",
    "    open_set = []\n",
    "    closed_set = set()\n",
    "    \n",
    "    # Add the starting point to the open set\n",
    "    heapq.heappush(open_set, (0, start))\n",
    "    \n",
    "    # Initialize the cost and came_from dictionaries\n",
    "    cost = {start: 0}\n",
    "    came_from = {}\n",
    "    \n",
    "    # Loop until the open set is empty\n",
    "    while open_set:\n",
    "        # Pop the lowest-cost point from the open set\n",
    "        current_cost, current_point = heapq.heappop(open_set)\n",
    "        \n",
    "        # If the current point is the goal, reconstruct and return the path\n",
    "        if current_point == goal:\n",
    "            path = [current_point]\n",
    "            while current_point in came_from:\n",
    "                current_point = came_from[current_point]\n",
    "                path.append(current_point)\n",
    "            path.reverse()\n",
    "            return path\n",
    "        \n",
    "        # Add the current point to the closed set\n",
    "        closed_set.add(current_point)\n",
    "        \n",
    "        # Loop through the current point's neighbors\n",
    "        for neighbor in neighbors(current_point):\n",
    "            # Calculate the tentative cost to the neighbor\n",
    "            tentative_cost = cost[current_point] + 1\n",
    "            \n",
    "            # If the neighbor is already in the closed set and the new cost is greater than or equal to the old cost, skip it\n",
    "            if neighbor in closed_set and tentative_cost >= cost.get(neighbor, float('inf')):\n",
    "                continue\n",
    "            \n",
    "            # If the neighbor is not in the open set or the new cost is less than the old cost, add it to the open set\n",
    "            if tentative_cost < cost.get(neighbor, float('inf')):\n",
    "                came_from[neighbor] = current_point\n",
    "                cost[neighbor] = tentative_cost\n",
    "                priority = tentative_cost + heuristic(goal, neighbor)\n",
    "                heapq.heappush(open_set, (priority, neighbor))\n",
    "    \n",
    "    # If the open set is empty and the goal has not been reached, there is no path\n",
    "    return None"
   ]
  },
  {
   "cell_type": "code",
   "execution_count": 5,
   "metadata": {},
   "outputs": [],
   "source": [
    "def distance(p1, p2):\n",
    "    # Calculate the Euclidean distance between two points\n",
    "    return ((p1[0] - p2[0]) ** 2 + (p1[1] - p2[1]) ** 2) ** 0.5"
   ]
  },
  {
   "cell_type": "code",
   "execution_count": 6,
   "metadata": {},
   "outputs": [],
   "source": [
    "def find_start_end(map):\n",
    "    # Find the start and end points\n",
    "    start, end = None, None\n",
    "    for y in range(len(map)):\n",
    "        for x in range(len(map[0])):\n",
    "            if map[y][x] == 2:\n",
    "                start = (x, y)\n",
    "            elif map[y][x] == 3:\n",
    "                end = (x, y)\n",
    "            if start is not None and end is not None:\n",
    "                return start, end\n",
    "    # If start and end points are not found, raise an error\n",
    "    raise ValueError(\"Start or end point not found in map\")"
   ]
  },
  {
   "cell_type": "code",
   "execution_count": 7,
   "metadata": {},
   "outputs": [],
   "source": [
    "# Define the colors used for the map and path\n",
    "COLOR_MAP = (255, 255, 255)  # white\n",
    "COLOR_OBSTACLE = (0, 0, 0)  # black\n",
    "COLOR_START = (0, 255, 0)  # green\n",
    "COLOR_GOAL = (0, 0, 255)  # red\n",
    "COLOR_PATH = (0, 0, 0)  # blue\n",
    "\n",
    "# Define the size of each cell in the image\n",
    "CELL_SIZE = 1\n",
    "\n",
    "def create_map_image(map):\n",
    "    # Create a blank image with the correct dimensions\n",
    "    image = np.zeros((len(map) * CELL_SIZE, len(map[0]) * CELL_SIZE, 3), dtype=np.uint8)\n",
    "    # start, goal = find_start_end(map)\n",
    "\n",
    "    # Loop through each cell in the map and draw it in the image\n",
    "    for i in range(len(map)):\n",
    "        for j in range(len(map[0])):\n",
    "            # Determine the color of the cell\n",
    "            if map[i][j] == 1:\n",
    "                color = COLOR_OBSTACLE\n",
    "            else:\n",
    "                color = COLOR_MAP\n",
    "            \n",
    "            # Draw the cell in the image\n",
    "            x = j * CELL_SIZE\n",
    "            y = i * CELL_SIZE\n",
    "            cv2.rectangle(image, (x, y), (x + CELL_SIZE, y + CELL_SIZE), color, -1)\n",
    "    \n",
    "    return image"
   ]
  },
  {
   "cell_type": "code",
   "execution_count": 8,
   "metadata": {},
   "outputs": [],
   "source": [
    "def draw_path_on_image(image, path):\n",
    "    # Loop through each point in the path and draw it on the image\n",
    "    for i in range(len(path)-1):\n",
    "        # Determine the coordinates of the two points\n",
    "        x1 = path[i][1] * CELL_SIZE + CELL_SIZE // 2\n",
    "        y1 = path[i][0] * CELL_SIZE + CELL_SIZE // 2\n",
    "        x2 = path[i+1][1] * CELL_SIZE + CELL_SIZE // 2\n",
    "        y2 = path[i+1][0] * CELL_SIZE + CELL_SIZE // 2\n",
    "        \n",
    "        # Draw a line between the two points\n",
    "        cv2.line(image, (x1, y1), (x2, y2), COLOR_PATH, 1)\n",
    "    \n",
    "    return image"
   ]
  },
  {
   "cell_type": "code",
   "execution_count": 9,
   "metadata": {},
   "outputs": [],
   "source": [
    "def generate_random_start_and_goal(map):\n",
    "    # Define the minimum distance between the start and goal points\n",
    "    min_distance = max(len(map), len(map[0])) // 2\n",
    "    \n",
    "    # Choose random start and goal points that are not too close\n",
    "    while True:\n",
    "        start = (random.randint(0, len(map)-1), random.randint(0, len(map[0])-1))\n",
    "        goal = (random.randint(0, len(map)-1), random.randint(0, len(map[0])-1))\n",
    "        if distance(start, goal) >= min_distance:\n",
    "            return start, goal"
   ]
  },
  {
   "cell_type": "code",
   "execution_count": 12,
   "metadata": {},
   "outputs": [
    {
     "data": {
      "image/png": "[encoded data removed]",
      "text/plain": [
       "<Figure size 640x480 with 1 Axes>"
      ]
     },
     "metadata": {},
     "output_type": "display_data"
    },
    {
     "data": {
      "image/png": "[encoded data removed]",
      "text/plain": [
       "<Figure size 640x480 with 1 Axes>"
      ]
     },
     "metadata": {},
     "output_type": "display_data"
    }
   ],
   "source": [
    "# Generate a random map\n",
    "map = generate_random_maps(32, 32, 0.1)\n",
    "\n",
    "# Generate random start and goal points\n",
    "start, goal = find_start_end(map)\n",
    "\n",
    "# Run the A* algorithm to find the path\n",
    "path = a_star(start, goal, map)\n",
    "if path == \"None\":\n",
    "  print(\"No path found\")\n",
    "\n",
    "# Create an image of the map\n",
    "map_image = create_map_image(map)\n",
    "\n",
    "# Draw the path on the image\n",
    "# create a new image with the specified dimensions and color\n",
    "new_img = np.array(Image.new('RGB', (width, height), color))\n",
    "path_image = draw_path_on_image(new_img, path)\n",
    "\n",
    "# Display the images\n",
    "plt.imshow(cv2.cvtColor(map_image, cv2.COLOR_BGR2RGB))\n",
    "plt.show()\n",
    "plt.imshow(path_image)  \n",
    "plt.show()\n"
   ]
  },
  {
   "cell_type": "code",
   "execution_count": 13,
   "metadata": {},
   "outputs": [],
   "source": [
    "start_end = []"
   ]
  },
  {
   "cell_type": "code",
   "execution_count": 14,
   "metadata": {},
   "outputs": [],
   "source": [
    "# Step 1: Generating a labeled dataset\n",
    "def generate_dataset(n):\n",
    "    global start_end\n",
    "    map_images = []\n",
    "    path_images = []\n",
    "    is_start_end = []\n",
    "    i = 0\n",
    "    while i != n:\n",
    "        map_data = generate_random_maps(32, 32, 0.1)\n",
    "        map_image = create_map_image(map_data)\n",
    "        start, goal = find_start_end(map_data)\n",
    "        path = a_star(start, goal, map)\n",
    "        if path is not None:\n",
    "            arr1 = [0]*32*32\n",
    "            arr1[start[0]*32 + start[1]] = 1\n",
    "            arr1[goal[0]*32 + goal[1]] = 1\n",
    "            is_start_end = is_start_end + arr1\n",
    "            new_img = np.array(Image.new('RGB', (width, height), color))\n",
    "            path_image = draw_path_on_image(new_img, path)\n",
    "            map_image = cv2.cvtColor(map_image, cv2.COLOR_BGR2GRAY)\n",
    "            path_image = cv2.cvtColor(path_image, cv2.COLOR_BGR2GRAY)\n",
    "            path_image = (path_image.astype(np.float32) / 255.0)\n",
    "            map_image = map_image.reshape(-1)\n",
    "            path_image = path_image.reshape(-1)\n",
    "            map_images.append(map_image)\n",
    "            path_images.append(path_image)\n",
    "            start_end.append((start, goal))\n",
    "            i+=1\n",
    "    return np.array(map_images), np.array(path_images), np.array(is_start_end)"
   ]
  },
  {
   "cell_type": "code",
   "execution_count": 15,
   "metadata": {},
   "outputs": [],
   "source": [
    "X, Y, Z = generate_dataset(500)"
   ]
  },
  {
   "cell_type": "code",
   "execution_count": 166,
   "metadata": {},
   "outputs": [],
   "source": [
    "# first_img = X[0].reshape((32, 32, 1))\n",
    "# plt.imshow(first_img, cmap=\"gray\")\n",
    "# plt.show()"
   ]
  },
  {
   "cell_type": "code",
   "execution_count": 17,
   "metadata": {},
   "outputs": [
    {
     "data": {
      "text/plain": [
       "array([0., 1.], dtype=float32)"
      ]
     },
     "execution_count": 17,
     "metadata": {},
     "output_type": "execute_result"
    }
   ],
   "source": [
    "np.unique(Y)"
   ]
  },
  {
   "cell_type": "code",
   "execution_count": 18,
   "metadata": {},
   "outputs": [
    {
     "name": "stdout",
     "output_type": "stream",
     "text": [
      "(1024,)\n",
      "(1024,)\n"
     ]
    }
   ],
   "source": [
    "print(X[0].shape)\n",
    "print(Y[0].shape)"
   ]
  },
  {
   "cell_type": "code",
   "execution_count": 19,
   "metadata": {},
   "outputs": [
    {
     "name": "stdout",
     "output_type": "stream",
     "text": [
      "(500, 1024)\n",
      "(500, 1024)\n"
     ]
    }
   ],
   "source": [
    "print(X.shape)\n",
    "print(Y.shape)"
   ]
  },
  {
   "cell_type": "code",
   "execution_count": 20,
   "metadata": {},
   "outputs": [
    {
     "name": "stdout",
     "output_type": "stream",
     "text": [
      "(512000,) (512000,) (512000,)\n",
      "(512000,)\n"
     ]
    }
   ],
   "source": [
    "X = X.flatten()\n",
    "Y = Y.flatten()\n",
    "print(X.shape, Y.shape, Z.shape)\n",
    "print(X.shape)"
   ]
  },
  {
   "cell_type": "code",
   "execution_count": 21,
   "metadata": {},
   "outputs": [
    {
     "name": "stdout",
     "output_type": "stream",
     "text": [
      "1.0\n"
     ]
    },
    {
     "data": {
      "text/plain": [
       "(512000,)"
      ]
     },
     "execution_count": 21,
     "metadata": {},
     "output_type": "execute_result"
    }
   ],
   "source": [
    "print(Y[0])\n",
    "Y = Y.reshape(-1)\n",
    "Y.shape"
   ]
  },
  {
   "cell_type": "code",
   "execution_count": 22,
   "metadata": {},
   "outputs": [
    {
     "name": "stdout",
     "output_type": "stream",
     "text": [
      "[255   0]\n"
     ]
    },
    {
     "data": {
      "text/html": [
       "<div>\n",
       "<style scoped>\n",
       "    .dataframe tbody tr th:only-of-type {\n",
       "        vertical-align: middle;\n",
       "    }\n",
       "\n",
       "    .dataframe tbody tr th {\n",
       "        vertical-align: top;\n",
       "    }\n",
       "\n",
       "    .dataframe thead th {\n",
       "        text-align: right;\n",
       "    }\n",
       "</style>\n",
       "<table border=\"1\" class=\"dataframe\">\n",
       "  <thead>\n",
       "    <tr style=\"text-align: right;\">\n",
       "      <th></th>\n",
       "      <th>0</th>\n",
       "      <th>1</th>\n",
       "    </tr>\n",
       "  </thead>\n",
       "  <tbody>\n",
       "    <tr>\n",
       "      <th>0</th>\n",
       "      <td>255</td>\n",
       "      <td>0</td>\n",
       "    </tr>\n",
       "    <tr>\n",
       "      <th>1</th>\n",
       "      <td>255</td>\n",
       "      <td>0</td>\n",
       "    </tr>\n",
       "    <tr>\n",
       "      <th>2</th>\n",
       "      <td>255</td>\n",
       "      <td>0</td>\n",
       "    </tr>\n",
       "    <tr>\n",
       "      <th>3</th>\n",
       "      <td>255</td>\n",
       "      <td>0</td>\n",
       "    </tr>\n",
       "    <tr>\n",
       "      <th>4</th>\n",
       "      <td>255</td>\n",
       "      <td>0</td>\n",
       "    </tr>\n",
       "    <tr>\n",
       "      <th>...</th>\n",
       "      <td>...</td>\n",
       "      <td>...</td>\n",
       "    </tr>\n",
       "    <tr>\n",
       "      <th>511995</th>\n",
       "      <td>255</td>\n",
       "      <td>0</td>\n",
       "    </tr>\n",
       "    <tr>\n",
       "      <th>511996</th>\n",
       "      <td>255</td>\n",
       "      <td>0</td>\n",
       "    </tr>\n",
       "    <tr>\n",
       "      <th>511997</th>\n",
       "      <td>255</td>\n",
       "      <td>0</td>\n",
       "    </tr>\n",
       "    <tr>\n",
       "      <th>511998</th>\n",
       "      <td>255</td>\n",
       "      <td>0</td>\n",
       "    </tr>\n",
       "    <tr>\n",
       "      <th>511999</th>\n",
       "      <td>255</td>\n",
       "      <td>0</td>\n",
       "    </tr>\n",
       "  </tbody>\n",
       "</table>\n",
       "<p>512000 rows × 2 columns</p>\n",
       "</div>"
      ],
      "text/plain": [
       "          0  1\n",
       "0       255  0\n",
       "1       255  0\n",
       "2       255  0\n",
       "3       255  0\n",
       "4       255  0\n",
       "...     ... ..\n",
       "511995  255  0\n",
       "511996  255  0\n",
       "511997  255  0\n",
       "511998  255  0\n",
       "511999  255  0\n",
       "\n",
       "[512000 rows x 2 columns]"
      ]
     },
     "execution_count": 22,
     "metadata": {},
     "output_type": "execute_result"
    }
   ],
   "source": [
    "X_Z = np.column_stack((X, Z))\n",
    "print(X_Z[0])\n",
    "df = pd.DataFrame(X_Z)\n",
    "df"
   ]
  },
  {
   "cell_type": "code",
   "execution_count": 167,
   "metadata": {},
   "outputs": [],
   "source": [
    "X_train, X_test, Y_train, Y_test = train_test_split(df, Y, test_size=0.2, random_state=42)"
   ]
  },
  {
   "cell_type": "code",
   "execution_count": 36,
   "metadata": {},
   "outputs": [
    {
     "data": {
      "text/html": [
       "<style>#sk-container-id-2 {color: black;background-color: white;}#sk-container-id-2 pre{padding: 0;}#sk-container-id-2 div.sk-toggleable {background-color: white;}#sk-container-id-2 label.sk-toggleable__label {cursor: pointer;display: block;width: 100%;margin-bottom: 0;padding: 0.3em;box-sizing: border-box;text-align: center;}#sk-container-id-2 label.sk-toggleable__label-arrow:before {content: \"▸\";float: left;margin-right: 0.25em;color: #696969;}#sk-container-id-2 label.sk-toggleable__label-arrow:hover:before {color: black;}#sk-container-id-2 div.sk-estimator:hover label.sk-toggleable__label-arrow:before {color: black;}#sk-container-id-2 div.sk-toggleable__content {max-height: 0;max-width: 0;overflow: hidden;text-align: left;background-color: #f0f8ff;}#sk-container-id-2 div.sk-toggleable__content pre {margin: 0.2em;color: black;border-radius: 0.25em;background-color: #f0f8ff;}#sk-container-id-2 input.sk-toggleable__control:checked~div.sk-toggleable__content {max-height: 200px;max-width: 100%;overflow: auto;}#sk-container-id-2 input.sk-toggleable__control:checked~label.sk-toggleable__label-arrow:before {content: \"▾\";}#sk-container-id-2 div.sk-estimator input.sk-toggleable__control:checked~label.sk-toggleable__label {background-color: #d4ebff;}#sk-container-id-2 div.sk-label input.sk-toggleable__control:checked~label.sk-toggleable__label {background-color: #d4ebff;}#sk-container-id-2 input.sk-hidden--visually {border: 0;clip: rect(1px 1px 1px 1px);clip: rect(1px, 1px, 1px, 1px);height: 1px;margin: -1px;overflow: hidden;padding: 0;position: absolute;width: 1px;}#sk-container-id-2 div.sk-estimator {font-family: monospace;background-color: #f0f8ff;border: 1px dotted black;border-radius: 0.25em;box-sizing: border-box;margin-bottom: 0.5em;}#sk-container-id-2 div.sk-estimator:hover {background-color: #d4ebff;}#sk-container-id-2 div.sk-parallel-item::after {content: \"\";width: 100%;border-bottom: 1px solid gray;flex-grow: 1;}#sk-container-id-2 div.sk-label:hover label.sk-toggleable__label {background-color: #d4ebff;}#sk-container-id-2 div.sk-serial::before {content: \"\";position: absolute;border-left: 1px solid gray;box-sizing: border-box;top: 0;bottom: 0;left: 50%;z-index: 0;}#sk-container-id-2 div.sk-serial {display: flex;flex-direction: column;align-items: center;background-color: white;padding-right: 0.2em;padding-left: 0.2em;position: relative;}#sk-container-id-2 div.sk-item {position: relative;z-index: 1;}#sk-container-id-2 div.sk-parallel {display: flex;align-items: stretch;justify-content: center;background-color: white;position: relative;}#sk-container-id-2 div.sk-item::before, #sk-container-id-2 div.sk-parallel-item::before {content: \"\";position: absolute;border-left: 1px solid gray;box-sizing: border-box;top: 0;bottom: 0;left: 50%;z-index: -1;}#sk-container-id-2 div.sk-parallel-item {display: flex;flex-direction: column;z-index: 1;position: relative;background-color: white;}#sk-container-id-2 div.sk-parallel-item:first-child::after {align-self: flex-end;width: 50%;}#sk-container-id-2 div.sk-parallel-item:last-child::after {align-self: flex-start;width: 50%;}#sk-container-id-2 div.sk-parallel-item:only-child::after {width: 0;}#sk-container-id-2 div.sk-dashed-wrapped {border: 1px dashed gray;margin: 0 0.4em 0.5em 0.4em;box-sizing: border-box;padding-bottom: 0.4em;background-color: white;}#sk-container-id-2 div.sk-label label {font-family: monospace;font-weight: bold;display: inline-block;line-height: 1.2em;}#sk-container-id-2 div.sk-label-container {text-align: center;}#sk-container-id-2 div.sk-container {/* jupyter's `normalize.less` sets `[hidden] { display: none; }` but bootstrap.min.css set `[hidden] { display: none !important; }` so we also need the `!important` here to be able to override the default hidden behavior on the sphinx rendered scikit-learn.org. See: https://github.com/scikit-learn/scikit-learn/issues/21755 */display: inline-block !important;position: relative;}#sk-container-id-2 div.sk-text-repr-fallback {display: none;}</style><div id=\"sk-container-id-2\" class=\"sk-top-container\"><div class=\"sk-text-repr-fallback\"><pre>SVR(C=1, kernel=&#x27;sigmoid&#x27;)</pre><b>In a Jupyter environment, please rerun this cell to show the HTML representation or trust the notebook. <br />On GitHub, the HTML representation is unable to render, please try loading this page with nbviewer.org.</b></div><div class=\"sk-container\" hidden><div class=\"sk-item\"><div class=\"sk-estimator sk-toggleable\"><input class=\"sk-toggleable__control sk-hidden--visually\" id=\"sk-estimator-id-2\" type=\"checkbox\" checked><label for=\"sk-estimator-id-2\" class=\"sk-toggleable__label sk-toggleable__label-arrow\">SVR</label><div class=\"sk-toggleable__content\"><pre>SVR(C=1, kernel=&#x27;sigmoid&#x27;)</pre></div></div></div></div></div>"
      ],
      "text/plain": [
       "SVR(C=1, kernel='sigmoid')"
      ]
     },
     "execution_count": 36,
     "metadata": {},
     "output_type": "execute_result"
    }
   ],
   "source": [
    "# Step 3: Training an SVM model\n",
    "clf = svm.SVR(kernel='sigmoid', C=1)\n",
    "clf.fit(X_train, Y_train)"
   ]
  },
  {
   "cell_type": "code",
   "execution_count": 37,
   "metadata": {},
   "outputs": [],
   "source": [
    "s = pickle.dumps(clf)"
   ]
  },
  {
   "cell_type": "code",
   "execution_count": 152,
   "metadata": {},
   "outputs": [],
   "source": [
    "# Generate a random map\n",
    "test_map = generate_random_maps(32, 32, 0.1)\n",
    "test_map_image = create_map_image(test_map)\n",
    "\n",
    "# Generate random start and goal points\n",
    "test_start, test_goal = find_start_end(map)"
   ]
  },
  {
   "cell_type": "code",
   "execution_count": null,
   "metadata": {},
   "outputs": [],
   "source": []
  },
  {
   "cell_type": "code",
   "execution_count": 198,
   "metadata": {},
   "outputs": [],
   "source": [
    "# Step 4: Classifying all cells in the cost map\n",
    "traversable_map = clf.predict(X_test.iloc[0:1024]).reshape(-1, 1) #1024 outputs for 1 point"
   ]
  },
  {
   "cell_type": "code",
   "execution_count": 199,
   "metadata": {},
   "outputs": [
    {
     "name": "stdout",
     "output_type": "stream",
     "text": [
      "(1024, 1)\n"
     ]
    },
    {
     "data": {
      "text/plain": [
       "array([0.89473256, 0.9       , 0.9       ])"
      ]
     },
     "execution_count": 199,
     "metadata": {},
     "output_type": "execute_result"
    }
   ],
   "source": [
    "print(traversable_map.shape)\n",
    "np.unique(traversable_map)"
   ]
  },
  {
   "cell_type": "code",
   "execution_count": 170,
   "metadata": {},
   "outputs": [],
   "source": [
    "img_arr = []\n",
    "for i in traversable_map:\n",
    "    if i >= 0.9:\n",
    "        img_arr.append(0)\n",
    "    else:\n",
    "        img_arr.append(1)\n",
    "\n",
    "img_arr = np.array(img_arr)"
   ]
  },
  {
   "cell_type": "code",
   "execution_count": 171,
   "metadata": {},
   "outputs": [
    {
     "data": {
      "text/plain": [
       "(1024,)"
      ]
     },
     "execution_count": 171,
     "metadata": {},
     "output_type": "execute_result"
    }
   ],
   "source": [
    "np.unique(img_arr)\n",
    "img_arr.shape"
   ]
  },
  {
   "cell_type": "code",
   "execution_count": 172,
   "metadata": {},
   "outputs": [
    {
     "data": {
      "text/plain": [
       "(32, 32, 1)"
      ]
     },
     "execution_count": 172,
     "metadata": {},
     "output_type": "execute_result"
    }
   ],
   "source": [
    "img_arr = img_arr.reshape((32, 32, 1))\n",
    "img_arr.shape"
   ]
  },
  {
   "cell_type": "code",
   "execution_count": 186,
   "metadata": {},
   "outputs": [
    {
     "data": {
      "text/plain": [
       "(1024,)"
      ]
     },
     "execution_count": 186,
     "metadata": {},
     "output_type": "execute_result"
    }
   ],
   "source": [
    "test_image = X_test.iloc[0:1024][0].values\n",
    "test_image.shape"
   ]
  },
  {
   "cell_type": "code",
   "execution_count": 187,
   "metadata": {},
   "outputs": [
    {
     "data": {
      "text/plain": [
       "(32, 32, 1)"
      ]
     },
     "execution_count": 187,
     "metadata": {},
     "output_type": "execute_result"
    }
   ],
   "source": [
    "test_image = test_image.reshape((32, 32, 1))\n",
    "test_image.shape"
   ]
  },
  {
   "attachments": {},
   "cell_type": "markdown",
   "metadata": {},
   "source": [
    "Traversable Area found"
   ]
  },
  {
   "cell_type": "code",
   "execution_count": 188,
   "metadata": {},
   "outputs": [
    {
     "data": {
      "image/png": "[encoded data removed]",
      "text/plain": [
       "<Figure size 640x480 with 1 Axes>"
      ]
     },
     "metadata": {},
     "output_type": "display_data"
    },
    {
     "data": {
      "image/png": "[encoded data removed]",
      "text/plain": [
       "<Figure size 640x480 with 1 Axes>"
      ]
     },
     "metadata": {},
     "output_type": "display_data"
    }
   ],
   "source": [
    "plt.imshow(test_image, cmap=\"gray\")\n",
    "plt.show()\n",
    "plt.imshow(img_arr, cmap=\"gray\")\n",
    "plt.show()"
   ]
  },
  {
   "cell_type": "code",
   "execution_count": 195,
   "metadata": {},
   "outputs": [],
   "source": [
    "#--- take the absolute difference of the images ---\n",
    "res = cv2.absdiff(test_image.astype('uint8'), img_arr)\n",
    "\n",
    "#--- convert the result to integer type ---\n",
    "res = res.astype(np.uint8)\n",
    "\n",
    "#--- find percentage difference based on number of pixels that are not zero ---\n",
    "percentage = (np.count_nonzero(res) * 100)/ res.size"
   ]
  },
  {
   "cell_type": "code",
   "execution_count": 205,
   "metadata": {},
   "outputs": [
    {
     "name": "stdout",
     "output_type": "stream",
     "text": [
      "81.25%\n"
     ]
    }
   ],
   "source": [
    "print(percentage,\"%\")"
   ]
  }
 ],
 "metadata": {
  "kernelspec": {
   "display_name": "venv",
   "language": "python",
   "name": "python3"
  },
  "language_info": {
   "codemirror_mode": {
    "name": "ipython",
    "version": 3
   },
   "file_extension": ".py",
   "mimetype": "text/x-python",
   "name": "python",
   "nbconvert_exporter": "python",
   "pygments_lexer": "ipython3",
   "version": "3.9.0"
  },
  "orig_nbformat": 4,
  "vscode": {
   "interpreter": {
    "hash": "b8234645665d0505a579e39006bc3e3456b4702b9a57070c6a3ea9e1114a2936"
   }
  }
 },
 "nbformat": 4,
 "nbformat_minor": 2
}
